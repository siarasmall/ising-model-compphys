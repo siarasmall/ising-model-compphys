{
 "cells": [
  {
   "cell_type": "code",
   "execution_count": null,
   "metadata": {},
   "outputs": [],
   "source": [
    "# Imports\n",
    "from metropolis import Metropolis\n",
    "from vis import plot_mag_v_temp, plot_mag_v_time, visualize_lattice\n",
    "from copy import deepcopy"
   ]
  },
  {
   "cell_type": "code",
   "execution_count": null,
   "metadata": {},
   "outputs": [],
   "source": [
    "# Initialize parameters\n",
    "width = 20\n",
    "height = 20\n",
    "temps = list(range(0, 10, 1))\n",
    "timesteps = 2000\n",
    "algo = \"Metropolis\""
   ]
  },
  {
   "cell_type": "code",
   "execution_count": null,
   "metadata": {},
   "outputs": [],
   "source": [
    "# Calculate magnetization as a function of temperature for a single lattice\n",
    "mags_for_temp = []\n",
    "for temp in temps:\n",
    "    algo = Metropolis(width, height)\n",
    "    current_mags, lattices = algo.metropolis(temp, timesteps)\n",
    "    mags_for_temp.append((deepcopy(current_mags), temp))"
   ]
  },
  {
   "cell_type": "code",
   "execution_count": null,
   "metadata": {},
   "outputs": [],
   "source": [
    "# Visualize magnetization as a function of temperature for a single lattice using the Metropolis algorithm\n",
    "plot_mag_v_time(list(range(timesteps)), mags_for_temp, algo, f\"Square {width} by {height}\")"
   ]
  },
  {
   "cell_type": "code",
   "execution_count": null,
   "metadata": {},
   "outputs": [],
   "source": [
    "# Animate lattice as a function of time during running of the algorithm\n",
    "visualize_lattice(lattices)"
   ]
  },
  {
   "cell_type": "code",
   "execution_count": null,
   "metadata": {},
   "outputs": [],
   "source": [
    "# Calculate magnetization as a function of time for each temperature in given range\n",
    "mags = []\n",
    "for temp in temps:\n",
    "    algo = Metropolis(width, height)\n",
    "    flips, all_mags, lattices = algo.metropolis(temp, timesteps)\n",
    "    mags.append(np.mean(all_mags))"
   ]
  },
  {
   "cell_type": "code",
   "execution_count": null,
   "metadata": {},
   "outputs": [],
   "source": [
    "# Visualize magnetization as a function of time for each temperature in given range\n",
    "plot_mag_v_temp(temps, mags, algo, f\"Square {width} by {height}\")"
   ]
  },
  {
   "cell_type": "code",
   "execution_count": null,
   "metadata": {},
   "outputs": [],
   "source": [
    "# Animate lattice as a function of time during running of the algorithm\n",
    "visualize_lattice(lattices)"
   ]
  }
 ],
 "metadata": {
  "interpreter": {
   "hash": "d5603cc4667a52057224efdf5ddcc7de73a3282f447f21696056843efd22823e"
  },
  "kernelspec": {
   "display_name": "Python 3.10.12 ('cs135_env')",
   "language": "python",
   "name": "python3"
  },
  "language_info": {
   "name": "python",
   "version": "3.10.12"
  },
  "orig_nbformat": 4
 },
 "nbformat": 4,
 "nbformat_minor": 2
}
